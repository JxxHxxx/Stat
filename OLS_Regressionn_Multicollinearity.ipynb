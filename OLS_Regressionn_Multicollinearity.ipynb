{
 "cells": [
  {
   "cell_type": "code",
   "execution_count": 21,
   "id": "528a902f",
   "metadata": {
    "scrolled": true
   },
   "outputs": [],
   "source": [
    "import pandas as pd\n",
    "import statsmodels.api as sm\n",
    "import matplotlib.pyplot as plt\n",
    "from statsmodels.stats.outliers_influence import variance_inflation_factor\n",
    "from statsmodels.formula.api import ols\n",
    "import seaborn as sns\n",
    "\n",
    "dataset = pd.read_csv('C:/Users/JH/Desktop/price/PriceEng.csv', encoding='utf-8-sig', thousands=',', index_col='Unnamed: 0')\n",
    "df = dataset.loc[:,['piecemaker','ambition','Awakening','sharpblunt','soulabsorption']]\n",
    "\n",
    "model = ols('piecemaker ~ ambition + Awakening + sharpblunt +soulabsorption', df)\n",
    "res = model.fit()"
   ]
  },
  {
   "cell_type": "code",
   "execution_count": 22,
   "id": "df9337be",
   "metadata": {},
   "outputs": [
    {
     "name": "stdout",
     "output_type": "stream",
     "text": [
      "                            OLS Regression Results                            \n",
      "==============================================================================\n",
      "Dep. Variable:             piecemaker   R-squared:                       0.931\n",
      "Model:                            OLS   Adj. R-squared:                  0.909\n",
      "Method:                 Least Squares   F-statistic:                     43.62\n",
      "Date:                Sat, 07 Aug 2021   Prob (F-statistic):           2.06e-07\n",
      "Time:                        16:53:27   Log-Likelihood:                -106.85\n",
      "No. Observations:                  18   AIC:                             223.7\n",
      "Df Residuals:                      13   BIC:                             228.1\n",
      "Df Model:                           4                                         \n",
      "Covariance Type:            nonrobust                                         \n",
      "==================================================================================\n",
      "                     coef    std err          t      P>|t|      [0.025      0.975]\n",
      "----------------------------------------------------------------------------------\n",
      "Intercept       1787.1227    792.058      2.256      0.042      75.986    3498.260\n",
      "ambition           0.0245      0.167      0.147      0.886      -0.337       0.386\n",
      "Awakening         -0.4114      0.113     -3.653      0.003      -0.655      -0.168\n",
      "sharpblunt         0.0856      0.092      0.927      0.371      -0.114       0.285\n",
      "soulabsorption     0.8342      0.219      3.803      0.002       0.360       1.308\n",
      "==============================================================================\n",
      "Omnibus:                        1.247   Durbin-Watson:                   2.023\n",
      "Prob(Omnibus):                  0.536   Jarque-Bera (JB):                0.171\n",
      "Skew:                          -0.085   Prob(JB):                        0.918\n",
      "Kurtosis:                       3.447   Cond. No.                     4.06e+05\n",
      "==============================================================================\n",
      "\n",
      "Notes:\n",
      "[1] Standard Errors assume that the covariance matrix of the errors is correctly specified.\n",
      "[2] The condition number is large, 4.06e+05. This might indicate that there are\n",
      "strong multicollinearity or other numerical problems.\n"
     ]
    }
   ],
   "source": [
    "print(res.summary())"
   ]
  },
  {
   "cell_type": "code",
   "execution_count": null,
   "id": "915a4b1f",
   "metadata": {},
   "outputs": [],
   "source": [
    "# R-squared 값이 높은데 특정독리 변수들의 p - value 가 상당히 높음을 볼 수 있다.\n",
    "# 다중공선성을 의심해볼 필요가 있다."
   ]
  },
  {
   "cell_type": "code",
   "execution_count": 23,
   "id": "c3cfd547",
   "metadata": {
    "scrolled": true
   },
   "outputs": [
    {
     "name": "stdout",
     "output_type": "stream",
     "text": [
      "972.9309863143253\n",
      "11.4549677088088\n",
      "3.2666448538366257\n",
      "15.053507951389355\n"
     ]
    }
   ],
   "source": [
    "#다중공선성을 확인하기 위한 VIF 계산\n",
    "for i in range(4):\n",
    "    print(variance_inflation_factor(model.exog, i)) \n"
   ]
  },
  {
   "cell_type": "code",
   "execution_count": null,
   "id": "d89f32bb",
   "metadata": {},
   "outputs": [],
   "source": [
    "# VIF > 10 이면, 다중공선성 가능성 굉장히 높음\n",
    "# 다중공선성을 해결하는 방법은 여러가지가 있다고 한다.\n",
    "# 1. 독립변수 제거, 2. 독립변수 변형 or 관측치 추가 3. 주성분 분석 사용\n",
    "\n",
    "# 나는 그중에 2. 독립변수 변형, 더 자세히는 독립변수를 가격에서 가격의 변화율로 변경해보았다."
   ]
  },
  {
   "cell_type": "code",
   "execution_count": 6,
   "id": "f9d2e994",
   "metadata": {
    "scrolled": true
   },
   "outputs": [
    {
     "name": "stdout",
     "output_type": "stream",
     "text": [
      "1.2150449646215815\n",
      "3.560784332504824\n",
      "2.6671858878306565\n",
      "3.26035216474704\n"
     ]
    }
   ],
   "source": [
    "#독립변수들을 가격에서 변화율로 변경\n",
    "\n",
    "dataset = pd.read_csv('C:/Users/JH/Desktop/price/pricePctChange.csv', encoding='utf-8-sig', thousands=',', index_col='Unnamed: 0')\n",
    "df = dataset.loc[:,['piecemaker','ambition','Awakening','sharpblunt','soulabsorption']]\n",
    "\n",
    "model = ols('piecemaker ~ ambition + Awakening + sharpblunt + soulabsorption', df)\n",
    "res = model.fit()\n",
    "\n",
    "for i in range(4):\n",
    "    print(variance_inflation_factor(model.exog, i)) "
   ]
  },
  {
   "cell_type": "code",
   "execution_count": null,
   "id": "40442ea8",
   "metadata": {},
   "outputs": [],
   "source": [
    "# VIF < 10 다중공선성 해결"
   ]
  },
  {
   "cell_type": "code",
   "execution_count": 25,
   "id": "21c7f9df",
   "metadata": {},
   "outputs": [
    {
     "name": "stdout",
     "output_type": "stream",
     "text": [
      "                            OLS Regression Results                            \n",
      "==============================================================================\n",
      "Dep. Variable:             piecemaker   R-squared:                       0.931\n",
      "Model:                            OLS   Adj. R-squared:                  0.909\n",
      "Method:                 Least Squares   F-statistic:                     43.62\n",
      "Date:                Sat, 07 Aug 2021   Prob (F-statistic):           2.06e-07\n",
      "Time:                        16:58:27   Log-Likelihood:                -106.85\n",
      "No. Observations:                  18   AIC:                             223.7\n",
      "Df Residuals:                      13   BIC:                             228.1\n",
      "Df Model:                           4                                         \n",
      "Covariance Type:            nonrobust                                         \n",
      "==================================================================================\n",
      "                     coef    std err          t      P>|t|      [0.025      0.975]\n",
      "----------------------------------------------------------------------------------\n",
      "Intercept       1787.1227    792.058      2.256      0.042      75.986    3498.260\n",
      "ambition           0.0245      0.167      0.147      0.886      -0.337       0.386\n",
      "Awakening         -0.4114      0.113     -3.653      0.003      -0.655      -0.168\n",
      "sharpblunt         0.0856      0.092      0.927      0.371      -0.114       0.285\n",
      "soulabsorption     0.8342      0.219      3.803      0.002       0.360       1.308\n",
      "==============================================================================\n",
      "Omnibus:                        1.247   Durbin-Watson:                   2.023\n",
      "Prob(Omnibus):                  0.536   Jarque-Bera (JB):                0.171\n",
      "Skew:                          -0.085   Prob(JB):                        0.918\n",
      "Kurtosis:                       3.447   Cond. No.                     4.06e+05\n",
      "==============================================================================\n",
      "\n",
      "Notes:\n",
      "[1] Standard Errors assume that the covariance matrix of the errors is correctly specified.\n",
      "[2] The condition number is large, 4.06e+05. This might indicate that there are\n",
      "strong multicollinearity or other numerical problems.\n"
     ]
    }
   ],
   "source": [
    "print(res.summary())"
   ]
  },
  {
   "cell_type": "code",
   "execution_count": null,
   "id": "f4f4de83",
   "metadata": {},
   "outputs": [],
   "source": [
    "# 다중공선성외에도 "
   ]
  },
  {
   "cell_type": "code",
   "execution_count": 26,
   "id": "00efe812",
   "metadata": {},
   "outputs": [
    {
     "data": {
      "text/plain": [
       "<seaborn.axisgrid.FacetGrid at 0x16016d450a0>"
      ]
     },
     "execution_count": 26,
     "metadata": {},
     "output_type": "execute_result"
    },
    {
     "data": {
      "image/png": "[encoded data removed]",
      "text/plain": [
       "<Figure size 360x360 with 1 Axes>"
      ]
     },
     "metadata": {
      "needs_background": "light"
     },
     "output_type": "display_data"
    }
   ],
   "source": [
    "sns.lmplot(x='piecemaker', y='ambition',data = df, ci = None)"
   ]
  },
  {
   "cell_type": "code",
   "execution_count": null,
   "id": "b9ec1f0d",
   "metadata": {},
   "outputs": [],
   "source": []
  }
 ],
 "metadata": {
  "kernelspec": {
   "display_name": "Python 3",
   "language": "python",
   "name": "python3"
  },
  "language_info": {
   "codemirror_mode": {
    "name": "ipython",
    "version": 3
   },
   "file_extension": ".py",
   "mimetype": "text/x-python",
   "name": "python",
   "nbconvert_exporter": "python",
   "pygments_lexer": "ipython3",
   "version": "3.8.8"
  }
 },
 "nbformat": 4,
 "nbformat_minor": 5
}
